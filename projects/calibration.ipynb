{
 "cells": [
  {
   "cell_type": "code",
   "execution_count": 29,
   "metadata": {
    "collapsed": false
   },
   "outputs": [
    {
     "data": {
      "text/plain": [
       "<module 'larana.geom' from '/home/matthias/workspace/larana/larana/geom.py'>"
      ]
     },
     "execution_count": 29,
     "metadata": {},
     "output_type": "execute_result"
    }
   ],
   "source": [
    "import numpy as np\n",
    "import importlib\n",
    "import larana.geom as geo\n",
    "importlib.reload(geo)"
   ]
  },
  {
   "cell_type": "code",
   "execution_count": 30,
   "metadata": {
    "collapsed": false
   },
   "outputs": [],
   "source": [
    "la = geo.Laser(2)"
   ]
  },
  {
   "cell_type": "markdown",
   "metadata": {},
   "source": [
    "Run 7267\n",
    "\n",
    "Event: 42959 / SubRun: 859"
   ]
  },
  {
   "cell_type": "markdown",
   "metadata": {},
   "source": [
    "### Calculations for Thetha-1"
   ]
  },
  {
   "cell_type": "code",
   "execution_count": 31,
   "metadata": {
    "collapsed": false
   },
   "outputs": [
    {
     "name": "stdout",
     "output_type": "stream",
     "text": [
      "105.07786000000002\n",
      "92.6133818788\n"
     ]
    }
   ],
   "source": [
    "# TPC data\n",
    "event = 42959\n",
    "wire_hit = [682, 440, 451]\n",
    "wire_hit_error =[1, 1, 1]\n",
    "wire_pos = [0, -41.6, 135.3]\n",
    "\n",
    "t = 1471936051.2649506\n",
    "\n",
    "# Laser data\n",
    "linear_tick = 10507786      # tick\n",
    "azimu_raw = 155.735992432  # deg\n",
    "\n",
    "l1 = linear_tick * la._polar_tick_length\n",
    "print(l1)\n",
    "\n",
    "print(la.polar_tick2laser(linear_tick))\n",
    "\n",
    "dy = la.pos[1] - wire_pos[1]\n",
    "dz = la.pos[2] - wire_pos[2]"
   ]
  },
  {
   "cell_type": "code",
   "execution_count": 32,
   "metadata": {
    "collapsed": false
   },
   "outputs": [
    {
     "name": "stdout",
     "output_type": "stream",
     "text": [
      "3.0293277287\n"
     ]
    }
   ],
   "source": [
    "thetha_1 = np.tan(dy/dz)\n",
    "print(np.rad2deg(thetha_1))"
   ]
  },
  {
   "cell_type": "markdown",
   "metadata": {},
   "source": [
    "### Calculations for Thetha-2"
   ]
  },
  {
   "cell_type": "code",
   "execution_count": 35,
   "metadata": {
    "collapsed": false
   },
   "outputs": [
    {
     "name": "stdout",
     "output_type": "stream",
     "text": [
      "102.94681000000001\n",
      "86.5229274633\n"
     ]
    }
   ],
   "source": [
    "# TPC data\n",
    "event = 39053\n",
    "wire_hit = [372, 719, 419]\n",
    "wire_hit_error =[1, 1, 1]\n",
    "wire_pos = [0, 60.9, 125.6]\n",
    "\n",
    "t = 1471935256.198851\n",
    "\n",
    "# Laser data\n",
    "linear_tick = 10294681      # tick\n",
    "azimu_raw = 155.753997803  # deg\n",
    "\n",
    "l2 = linear_tick * la._polar_tick_length\n",
    "print(l2)\n",
    "print(la.polar_tick2laser(linear_tick))\n",
    "\n",
    "dy = wire_pos[1] - la.pos[1]\n",
    "dz = la.pos[2] - wire_pos[2]"
   ]
  },
  {
   "cell_type": "code",
   "execution_count": 34,
   "metadata": {
    "collapsed": false
   },
   "outputs": [
    {
     "name": "stdout",
     "output_type": "stream",
     "text": [
      "3.19320451648\n"
     ]
    }
   ],
   "source": [
    "thetha_2 = np.tan(dy/dz)\n",
    "print(np.rad2deg(thetha_2))"
   ]
  },
  {
   "cell_type": "markdown",
   "metadata": {},
   "source": [
    "### Calibration"
   ]
  },
  {
   "cell_type": "code",
   "execution_count": 40,
   "metadata": {
    "collapsed": false
   },
   "outputs": [
    {
     "name": "stdout",
     "output_type": "stream",
     "text": [
      "delta-l: 2.131050000000002\n",
      "delta-deg: 6.22253224518\n"
     ]
    }
   ],
   "source": [
    "dl = l1 - l2\n",
    "dthe = np.rad2deg(thetha_1) + np.rad2deg(thetha_2)\n",
    "print(\"delta-l:\", dl)\n",
    "print(\"delta-deg:\", dthe)"
   ]
  },
  {
   "cell_type": "code",
   "execution_count": 42,
   "metadata": {
    "collapsed": false
   },
   "outputs": [
    {
     "name": "stdout",
     "output_type": "stream",
     "text": [
      "0.342473114808\n"
     ]
    }
   ],
   "source": [
    "m = dl/dthe\n",
    "\n",
    "print(m)"
   ]
  },
  {
   "cell_type": "code",
   "execution_count": null,
   "metadata": {
    "collapsed": true
   },
   "outputs": [],
   "source": []
  }
 ],
 "metadata": {
  "kernelspec": {
   "display_name": "Python [conda env:root6]",
   "language": "python",
   "name": "conda-env-root6-py"
  },
  "language_info": {
   "codemirror_mode": {
    "name": "ipython",
    "version": 3
   },
   "file_extension": ".py",
   "mimetype": "text/x-python",
   "name": "python",
   "nbconvert_exporter": "python",
   "pygments_lexer": "ipython3",
   "version": "3.4.5"
  }
 },
 "nbformat": 4,
 "nbformat_minor": 0
}
